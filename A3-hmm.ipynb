{
 "cells": [
  {
   "cell_type": "code",
   "execution_count": 83,
   "metadata": {},
   "outputs": [
    {
     "name": "stdout",
     "output_type": "stream",
     "text": [
      "=====================================================================\n",
      "Assignment: A3 HMM\n",
      "OK, version v1.18.1\n",
      "=====================================================================\n",
      "\n",
      "\n",
      "Open the following URL:\n",
      "\n",
      "https://okpy.org/client/login/\n",
      "\n",
      "After logging in, copy the code from the web page and paste it into the box.\n",
      "Then press the \"Enter\" key on your keyboard.\n",
      "\n",
      "Paste your code here: 7xW5QqiZYFBEOS309Q1Y7dzxKtqJge\n",
      "Successfully logged in as SajiaZafreen@u.boisestate.edu\n"
     ]
    }
   ],
   "source": [
    "from client.api.notebook import Notebook\n",
    "\n",
    "ok = Notebook('a3.ok')\n",
    "\n",
    "ok.auth(inline=True, force=True)"
   ]
  },
  {
   "cell_type": "code",
   "execution_count": 40,
   "metadata": {},
   "outputs": [],
   "source": [
    "import pandas as pd\n",
    "from collections import Counter as ctr\n",
    "from operator import itemgetter"
   ]
  },
  {
   "cell_type": "code",
   "execution_count": 41,
   "metadata": {},
   "outputs": [],
   "source": [
    "train = pd.read_csv('train.txt', delimiter=' ', names=['word', 'pos', 'other'])\n",
    "train['word'] = train.word.str.lower()"
   ]
  },
  {
   "cell_type": "code",
   "execution_count": 3,
   "metadata": {},
   "outputs": [
    {
     "data": {
      "text/html": [
       "<div>\n",
       "<style scoped>\n",
       "    .dataframe tbody tr th:only-of-type {\n",
       "        vertical-align: middle;\n",
       "    }\n",
       "\n",
       "    .dataframe tbody tr th {\n",
       "        vertical-align: top;\n",
       "    }\n",
       "\n",
       "    .dataframe thead th {\n",
       "        text-align: right;\n",
       "    }\n",
       "</style>\n",
       "<table border=\"1\" class=\"dataframe\">\n",
       "  <thead>\n",
       "    <tr style=\"text-align: right;\">\n",
       "      <th></th>\n",
       "      <th>word</th>\n",
       "      <th>pos</th>\n",
       "      <th>other</th>\n",
       "    </tr>\n",
       "  </thead>\n",
       "  <tbody>\n",
       "    <tr>\n",
       "      <td>0</td>\n",
       "      <td>confidence</td>\n",
       "      <td>NN</td>\n",
       "      <td>B-NP</td>\n",
       "    </tr>\n",
       "    <tr>\n",
       "      <td>1</td>\n",
       "      <td>in</td>\n",
       "      <td>IN</td>\n",
       "      <td>B-PP</td>\n",
       "    </tr>\n",
       "    <tr>\n",
       "      <td>2</td>\n",
       "      <td>the</td>\n",
       "      <td>DT</td>\n",
       "      <td>B-NP</td>\n",
       "    </tr>\n",
       "    <tr>\n",
       "      <td>3</td>\n",
       "      <td>pound</td>\n",
       "      <td>NN</td>\n",
       "      <td>I-NP</td>\n",
       "    </tr>\n",
       "    <tr>\n",
       "      <td>4</td>\n",
       "      <td>is</td>\n",
       "      <td>VBZ</td>\n",
       "      <td>B-VP</td>\n",
       "    </tr>\n",
       "    <tr>\n",
       "      <td>5</td>\n",
       "      <td>widely</td>\n",
       "      <td>RB</td>\n",
       "      <td>I-VP</td>\n",
       "    </tr>\n",
       "    <tr>\n",
       "      <td>6</td>\n",
       "      <td>expected</td>\n",
       "      <td>VBN</td>\n",
       "      <td>I-VP</td>\n",
       "    </tr>\n",
       "    <tr>\n",
       "      <td>7</td>\n",
       "      <td>to</td>\n",
       "      <td>TO</td>\n",
       "      <td>I-VP</td>\n",
       "    </tr>\n",
       "    <tr>\n",
       "      <td>8</td>\n",
       "      <td>take</td>\n",
       "      <td>VB</td>\n",
       "      <td>I-VP</td>\n",
       "    </tr>\n",
       "    <tr>\n",
       "      <td>9</td>\n",
       "      <td>another</td>\n",
       "      <td>DT</td>\n",
       "      <td>B-NP</td>\n",
       "    </tr>\n",
       "    <tr>\n",
       "      <td>10</td>\n",
       "      <td>sharp</td>\n",
       "      <td>JJ</td>\n",
       "      <td>I-NP</td>\n",
       "    </tr>\n",
       "    <tr>\n",
       "      <td>11</td>\n",
       "      <td>dive</td>\n",
       "      <td>NN</td>\n",
       "      <td>I-NP</td>\n",
       "    </tr>\n",
       "    <tr>\n",
       "      <td>12</td>\n",
       "      <td>if</td>\n",
       "      <td>IN</td>\n",
       "      <td>B-SBAR</td>\n",
       "    </tr>\n",
       "    <tr>\n",
       "      <td>13</td>\n",
       "      <td>trade</td>\n",
       "      <td>NN</td>\n",
       "      <td>B-NP</td>\n",
       "    </tr>\n",
       "    <tr>\n",
       "      <td>14</td>\n",
       "      <td>figures</td>\n",
       "      <td>NNS</td>\n",
       "      <td>I-NP</td>\n",
       "    </tr>\n",
       "    <tr>\n",
       "      <td>15</td>\n",
       "      <td>for</td>\n",
       "      <td>IN</td>\n",
       "      <td>B-PP</td>\n",
       "    </tr>\n",
       "    <tr>\n",
       "      <td>16</td>\n",
       "      <td>september</td>\n",
       "      <td>NNP</td>\n",
       "      <td>B-NP</td>\n",
       "    </tr>\n",
       "    <tr>\n",
       "      <td>17</td>\n",
       "      <td>,</td>\n",
       "      <td>,</td>\n",
       "      <td>O</td>\n",
       "    </tr>\n",
       "    <tr>\n",
       "      <td>18</td>\n",
       "      <td>due</td>\n",
       "      <td>JJ</td>\n",
       "      <td>B-ADJP</td>\n",
       "    </tr>\n",
       "    <tr>\n",
       "      <td>19</td>\n",
       "      <td>for</td>\n",
       "      <td>IN</td>\n",
       "      <td>B-PP</td>\n",
       "    </tr>\n",
       "    <tr>\n",
       "      <td>20</td>\n",
       "      <td>release</td>\n",
       "      <td>NN</td>\n",
       "      <td>B-NP</td>\n",
       "    </tr>\n",
       "    <tr>\n",
       "      <td>21</td>\n",
       "      <td>tomorrow</td>\n",
       "      <td>NN</td>\n",
       "      <td>B-NP</td>\n",
       "    </tr>\n",
       "    <tr>\n",
       "      <td>22</td>\n",
       "      <td>,</td>\n",
       "      <td>,</td>\n",
       "      <td>O</td>\n",
       "    </tr>\n",
       "    <tr>\n",
       "      <td>23</td>\n",
       "      <td>fail</td>\n",
       "      <td>VB</td>\n",
       "      <td>B-VP</td>\n",
       "    </tr>\n",
       "    <tr>\n",
       "      <td>24</td>\n",
       "      <td>to</td>\n",
       "      <td>TO</td>\n",
       "      <td>I-VP</td>\n",
       "    </tr>\n",
       "  </tbody>\n",
       "</table>\n",
       "</div>"
      ],
      "text/plain": [
       "          word  pos   other\n",
       "0   confidence   NN    B-NP\n",
       "1           in   IN    B-PP\n",
       "2          the   DT    B-NP\n",
       "3        pound   NN    I-NP\n",
       "4           is  VBZ    B-VP\n",
       "5       widely   RB    I-VP\n",
       "6     expected  VBN    I-VP\n",
       "7           to   TO    I-VP\n",
       "8         take   VB    I-VP\n",
       "9      another   DT    B-NP\n",
       "10       sharp   JJ    I-NP\n",
       "11        dive   NN    I-NP\n",
       "12          if   IN  B-SBAR\n",
       "13       trade   NN    B-NP\n",
       "14     figures  NNS    I-NP\n",
       "15         for   IN    B-PP\n",
       "16   september  NNP    B-NP\n",
       "17           ,    ,       O\n",
       "18         due   JJ  B-ADJP\n",
       "19         for   IN    B-PP\n",
       "20     release   NN    B-NP\n",
       "21    tomorrow   NN    B-NP\n",
       "22           ,    ,       O\n",
       "23        fail   VB    B-VP\n",
       "24          to   TO    I-VP"
      ]
     },
     "execution_count": 3,
     "metadata": {},
     "output_type": "execute_result"
    }
   ],
   "source": [
    "train[:25]"
   ]
  },
  {
   "cell_type": "code",
   "execution_count": 4,
   "metadata": {},
   "outputs": [
    {
     "data": {
      "text/html": [
       "<div>\n",
       "<style scoped>\n",
       "    .dataframe tbody tr th:only-of-type {\n",
       "        vertical-align: middle;\n",
       "    }\n",
       "\n",
       "    .dataframe tbody tr th {\n",
       "        vertical-align: top;\n",
       "    }\n",
       "\n",
       "    .dataframe thead th {\n",
       "        text-align: right;\n",
       "    }\n",
       "</style>\n",
       "<table border=\"1\" class=\"dataframe\">\n",
       "  <thead>\n",
       "    <tr style=\"text-align: right;\">\n",
       "      <th></th>\n",
       "      <th>word</th>\n",
       "      <th>pos</th>\n",
       "      <th>ppos</th>\n",
       "    </tr>\n",
       "  </thead>\n",
       "  <tbody>\n",
       "    <tr>\n",
       "      <td>0</td>\n",
       "      <td>confidence</td>\n",
       "      <td>NN</td>\n",
       "      <td>O</td>\n",
       "    </tr>\n",
       "    <tr>\n",
       "      <td>1</td>\n",
       "      <td>in</td>\n",
       "      <td>IN</td>\n",
       "      <td>NN</td>\n",
       "    </tr>\n",
       "    <tr>\n",
       "      <td>2</td>\n",
       "      <td>the</td>\n",
       "      <td>DT</td>\n",
       "      <td>IN</td>\n",
       "    </tr>\n",
       "    <tr>\n",
       "      <td>3</td>\n",
       "      <td>pound</td>\n",
       "      <td>NN</td>\n",
       "      <td>DT</td>\n",
       "    </tr>\n",
       "    <tr>\n",
       "      <td>4</td>\n",
       "      <td>is</td>\n",
       "      <td>VBZ</td>\n",
       "      <td>NN</td>\n",
       "    </tr>\n",
       "    <tr>\n",
       "      <td>5</td>\n",
       "      <td>widely</td>\n",
       "      <td>RB</td>\n",
       "      <td>VBZ</td>\n",
       "    </tr>\n",
       "    <tr>\n",
       "      <td>6</td>\n",
       "      <td>expected</td>\n",
       "      <td>VBN</td>\n",
       "      <td>RB</td>\n",
       "    </tr>\n",
       "    <tr>\n",
       "      <td>7</td>\n",
       "      <td>to</td>\n",
       "      <td>TO</td>\n",
       "      <td>VBN</td>\n",
       "    </tr>\n",
       "    <tr>\n",
       "      <td>8</td>\n",
       "      <td>take</td>\n",
       "      <td>VB</td>\n",
       "      <td>TO</td>\n",
       "    </tr>\n",
       "    <tr>\n",
       "      <td>9</td>\n",
       "      <td>another</td>\n",
       "      <td>DT</td>\n",
       "      <td>VB</td>\n",
       "    </tr>\n",
       "  </tbody>\n",
       "</table>\n",
       "</div>"
      ],
      "text/plain": [
       "         word  pos ppos\n",
       "0  confidence   NN    O\n",
       "1          in   IN   NN\n",
       "2         the   DT   IN\n",
       "3       pound   NN   DT\n",
       "4          is  VBZ   NN\n",
       "5      widely   RB  VBZ\n",
       "6    expected  VBN   RB\n",
       "7          to   TO  VBN\n",
       "8        take   VB   TO\n",
       "9     another   DT   VB"
      ]
     },
     "execution_count": 4,
     "metadata": {},
     "output_type": "execute_result"
    }
   ],
   "source": [
    "train['ppos'] = train.pos.shift(1)\n",
    "train['ppos'] = train.ppos.fillna('O')\n",
    "train = train.drop('other',axis=1)\n",
    "\n",
    "train[:10]"
   ]
  },
  {
   "cell_type": "markdown",
   "metadata": {},
   "source": [
    "### Write the functions\n",
    "\n",
    "$$P(T_i|T_{i-1})$$\n",
    "\n",
    "$$P(W_i|T_i)$$"
   ]
  },
  {
   "cell_type": "code",
   "execution_count": 5,
   "metadata": {},
   "outputs": [
    {
     "data": {
      "text/plain": [
       "(44,\n",
       " [',',\n",
       "  'MD',\n",
       "  'PRP',\n",
       "  'TO',\n",
       "  \"''\",\n",
       "  'NNP',\n",
       "  'JJ',\n",
       "  'VBP',\n",
       "  'VBZ',\n",
       "  'CD',\n",
       "  'VB',\n",
       "  'NN',\n",
       "  'WDT',\n",
       "  '``',\n",
       "  'RBS',\n",
       "  'RP',\n",
       "  'WRB',\n",
       "  'EX',\n",
       "  'WP',\n",
       "  'FW',\n",
       "  'VBD',\n",
       "  'VBN',\n",
       "  'SYM',\n",
       "  ':',\n",
       "  'IN',\n",
       "  'NNPS',\n",
       "  'UH',\n",
       "  'WP$',\n",
       "  'PRP$',\n",
       "  'PDT',\n",
       "  '.',\n",
       "  '$',\n",
       "  'JJR',\n",
       "  'NNS',\n",
       "  '#',\n",
       "  ')',\n",
       "  'JJS',\n",
       "  'POS',\n",
       "  'VBG',\n",
       "  'RBR',\n",
       "  '(',\n",
       "  'DT',\n",
       "  'CC',\n",
       "  'RB'])"
      ]
     },
     "execution_count": 5,
     "metadata": {},
     "output_type": "execute_result"
    }
   ],
   "source": [
    "#del list\n",
    "pos = list(set(train.pos))\n",
    "smooth = 0.00001\n",
    "\n",
    "len(pos), pos"
   ]
  },
  {
   "cell_type": "markdown",
   "metadata": {},
   "source": [
    "## Transition Probability"
   ]
  },
  {
   "cell_type": "code",
   "execution_count": 6,
   "metadata": {},
   "outputs": [
    {
     "data": {
      "text/plain": [
       "6         VBN\n",
       "141        RB\n",
       "142        IN\n",
       "203         ,\n",
       "214       VBN\n",
       "         ... \n",
       "211112    VBN\n",
       "211367     JJ\n",
       "211529      .\n",
       "211704    VBG\n",
       "211726      .\n",
       "Name: pos, Length: 6607, dtype: object"
      ]
     },
     "execution_count": 6,
     "metadata": {},
     "output_type": "execute_result"
    }
   ],
   "source": [
    "#transition\n",
    "pos_ppos = {}\n",
    "pos_ppos_denom = {}\n",
    "for col_name in set(train.ppos):\n",
    "    sub_frame = train[train.ppos == col_name] # same column together\n",
    "    counted = ctr(sub_frame.pos)\n",
    "    pos_ppos[col_name] = counted\n",
    "    pos_ppos_denom[col_name] = len(sub_frame)\n",
    "    \n",
    "\n",
    "# conditional \n",
    "def Ptt(Ti,Tprev):\n",
    "    if Ti not in pos_ppos[Tprev]: return smooth\n",
    "    return pos_ppos[Tprev][Ti] / pos_ppos_denom[Tprev]\n",
    "\n",
    "sub_frame.pos  # all follow a particular pos tag\n",
    "\n",
    "#print (len(sub_frame))\n",
    "#counted    # other tags follow a particular pos tag how many times\n",
    "\n",
    "#Ptt('IN','RBS' )"
   ]
  },
  {
   "cell_type": "markdown",
   "metadata": {},
   "source": [
    "## Emission Probability"
   ]
  },
  {
   "cell_type": "code",
   "execution_count": 7,
   "metadata": {},
   "outputs": [],
   "source": [
    "#emission\n",
    "\n",
    "word_pos = {}\n",
    "word_pos_denom = {}\n",
    "for col_name in set(train.pos):\n",
    "    sub_frame = train[train.pos == col_name]\n",
    "    counted = ctr(sub_frame.word)\n",
    "    word_pos[col_name] = counted\n",
    "    word_pos_denom[col_name] = len(sub_frame)\n",
    "    \n",
    "\n",
    "# conditional \n",
    "def Pwt(W, T):\n",
    "    if W not in word_pos[T]: return smooth\n",
    "    return word_pos[T][W] / word_pos_denom[T]\n",
    "\n",
    "#print(col_name)\n",
    "#counted"
   ]
  },
  {
   "cell_type": "code",
   "execution_count": 8,
   "metadata": {},
   "outputs": [
    {
     "data": {
      "text/plain": [
       "0.583419689119171"
      ]
     },
     "execution_count": 8,
     "metadata": {},
     "output_type": "execute_result"
    }
   ],
   "source": [
    "Pwt('the','DT')"
   ]
  },
  {
   "cell_type": "code",
   "execution_count": 9,
   "metadata": {},
   "outputs": [
    {
     "data": {
      "text/plain": [
       "0.03947897807282237"
      ]
     },
     "execution_count": 9,
     "metadata": {},
     "output_type": "execute_result"
    }
   ],
   "source": [
    "Pwt('mr.', 'NNP')"
   ]
  },
  {
   "cell_type": "code",
   "execution_count": 10,
   "metadata": {},
   "outputs": [
    {
     "data": {
      "text/plain": [
       "0.1110444505044996"
      ]
     },
     "execution_count": 10,
     "metadata": {},
     "output_type": "execute_result"
    }
   ],
   "source": [
    "Ptt ('NNP', 'DT')"
   ]
  },
  {
   "cell_type": "markdown",
   "metadata": {},
   "source": [
    "### Evaluate: build the trellis (Example)\n",
    "\n",
    "- example trellis with an example sequence"
   ]
  },
  {
   "cell_type": "code",
   "execution_count": 11,
   "metadata": {},
   "outputs": [],
   "source": [
    "sequence = ['the', 'government']"
   ]
  },
  {
   "cell_type": "code",
   "execution_count": 12,
   "metadata": {},
   "outputs": [],
   "source": [
    "emissions = []\n",
    "transitions = []\n",
    "for word in sequence:\n",
    "    emission = [(t,Pwt(word, t)) for t in pos]\n",
    "    transition = [(tprev,Ptt(ti,tprev)) for ti in pos for tprev,prob in emission]\n",
    "    emissions.append(emission)\n",
    "    transitions.append(transition)\n",
    "    \n",
    "#print (word)\n",
    "#emission"
   ]
  },
  {
   "cell_type": "code",
   "execution_count": 13,
   "metadata": {},
   "outputs": [
    {
     "data": {
      "text/plain": [
       "[(',', 1e-05),\n",
       " ('MD', 1e-05),\n",
       " ('PRP', 1e-05),\n",
       " ('TO', 1e-05),\n",
       " (\"''\", 1e-05),\n",
       " ('JJ', 1e-05),\n",
       " ('VBP', 1e-05),\n",
       " ('VBZ', 1e-05),\n",
       " ('CD', 1e-05),\n",
       " ('VB', 1e-05),\n",
       " ('WDT', 1e-05),\n",
       " ('``', 1e-05),\n",
       " ('RBS', 1e-05),\n",
       " ('RP', 1e-05),\n",
       " ('WRB', 1e-05),\n",
       " ('EX', 1e-05),\n",
       " ('WP', 1e-05),\n",
       " ('FW', 1e-05),\n",
       " ('VBD', 1e-05),\n",
       " ('VBN', 1e-05),\n",
       " ('SYM', 1e-05),\n",
       " (':', 1e-05),\n",
       " ('IN', 1e-05),\n",
       " ('NNPS', 1e-05),\n",
       " ('UH', 1e-05),\n",
       " ('WP$', 1e-05),\n",
       " ('PRP$', 1e-05),\n",
       " ('PDT', 1e-05),\n",
       " ('.', 1e-05),\n",
       " ('$', 1e-05),\n",
       " ('JJR', 1e-05),\n",
       " ('NNS', 1e-05),\n",
       " ('#', 1e-05),\n",
       " (')', 1e-05),\n",
       " ('JJS', 1e-05),\n",
       " ('POS', 1e-05),\n",
       " ('VBG', 1e-05),\n",
       " ('RBR', 1e-05),\n",
       " ('(', 1e-05),\n",
       " ('DT', 1e-05),\n",
       " ('CC', 1e-05),\n",
       " ('RB', 1e-05),\n",
       " ('NNP', 0.0002011667672500503),\n",
       " ('NN', 0.005738547782532259)]"
      ]
     },
     "execution_count": 13,
     "metadata": {},
     "output_type": "execute_result"
    }
   ],
   "source": [
    "sorted(emission, key = itemgetter(1))"
   ]
  },
  {
   "cell_type": "markdown",
   "metadata": {},
   "source": [
    "### Evaluate: decode"
   ]
  },
  {
   "cell_type": "code",
   "execution_count": 14,
   "metadata": {},
   "outputs": [],
   "source": [
    "#sorted(emission, key = itemgetter(1)) # sort by 2nd element"
   ]
  },
  {
   "cell_type": "code",
   "execution_count": null,
   "metadata": {},
   "outputs": [],
   "source": []
  },
  {
   "cell_type": "code",
   "execution_count": 15,
   "metadata": {},
   "outputs": [],
   "source": [
    "hyp = []\n",
    "\n",
    "#for e,t in zip(emissions, transitions):\n",
    "for e in emissions:\n",
    "    # argmax of e\n",
    "    e = sorted(e, key = itemgetter(1))[-1][0]\n",
    "    hyp.append(e)"
   ]
  },
  {
   "cell_type": "markdown",
   "metadata": {},
   "source": [
    "### Evaluate: check accuracy\n",
    "\n",
    "- load test data\n",
    "- pass all word sequences through your hmm\n",
    "- decode\n",
    "- find the most probable sequence\n",
    "- compare to the \"gold\""
   ]
  },
  {
   "cell_type": "code",
   "execution_count": 16,
   "metadata": {},
   "outputs": [
    {
     "data": {
      "text/plain": [
       "['DT', 'NN']"
      ]
     },
     "execution_count": 16,
     "metadata": {},
     "output_type": "execute_result"
    }
   ],
   "source": [
    "hyp"
   ]
  },
  {
   "cell_type": "markdown",
   "metadata": {},
   "source": [
    "# Greedy Decoder"
   ]
  },
  {
   "cell_type": "markdown",
   "metadata": {},
   "source": [
    "### Loading the Test Data"
   ]
  },
  {
   "cell_type": "code",
   "execution_count": 72,
   "metadata": {},
   "outputs": [],
   "source": [
    "test = pd.read_csv('test.txt', delimiter=' ', names=['word', 'pos', 'other'])\n",
    "test['word'] = test.word.str.lower()"
   ]
  },
  {
   "cell_type": "code",
   "execution_count": 82,
   "metadata": {},
   "outputs": [
    {
     "data": {
      "text/html": [
       "<div>\n",
       "<style scoped>\n",
       "    .dataframe tbody tr th:only-of-type {\n",
       "        vertical-align: middle;\n",
       "    }\n",
       "\n",
       "    .dataframe tbody tr th {\n",
       "        vertical-align: top;\n",
       "    }\n",
       "\n",
       "    .dataframe thead th {\n",
       "        text-align: right;\n",
       "    }\n",
       "</style>\n",
       "<table border=\"1\" class=\"dataframe\">\n",
       "  <thead>\n",
       "    <tr style=\"text-align: right;\">\n",
       "      <th></th>\n",
       "      <th>word</th>\n",
       "      <th>pos</th>\n",
       "      <th>ppos</th>\n",
       "    </tr>\n",
       "  </thead>\n",
       "  <tbody>\n",
       "    <tr>\n",
       "      <td>0</td>\n",
       "      <td>rockwell</td>\n",
       "      <td>NNP</td>\n",
       "      <td>O</td>\n",
       "    </tr>\n",
       "    <tr>\n",
       "      <td>1</td>\n",
       "      <td>international</td>\n",
       "      <td>NNP</td>\n",
       "      <td>NNP</td>\n",
       "    </tr>\n",
       "    <tr>\n",
       "      <td>2</td>\n",
       "      <td>corp.</td>\n",
       "      <td>NNP</td>\n",
       "      <td>NNP</td>\n",
       "    </tr>\n",
       "    <tr>\n",
       "      <td>3</td>\n",
       "      <td>'s</td>\n",
       "      <td>POS</td>\n",
       "      <td>NNP</td>\n",
       "    </tr>\n",
       "    <tr>\n",
       "      <td>4</td>\n",
       "      <td>tulsa</td>\n",
       "      <td>NNP</td>\n",
       "      <td>POS</td>\n",
       "    </tr>\n",
       "    <tr>\n",
       "      <td>...</td>\n",
       "      <td>...</td>\n",
       "      <td>...</td>\n",
       "      <td>...</td>\n",
       "    </tr>\n",
       "    <tr>\n",
       "      <td>47372</td>\n",
       "      <td>according</td>\n",
       "      <td>VBG</td>\n",
       "      <td>,</td>\n",
       "    </tr>\n",
       "    <tr>\n",
       "      <td>47373</td>\n",
       "      <td>to</td>\n",
       "      <td>TO</td>\n",
       "      <td>VBG</td>\n",
       "    </tr>\n",
       "    <tr>\n",
       "      <td>47374</td>\n",
       "      <td>mr.</td>\n",
       "      <td>NNP</td>\n",
       "      <td>TO</td>\n",
       "    </tr>\n",
       "    <tr>\n",
       "      <td>47375</td>\n",
       "      <td>harlow</td>\n",
       "      <td>NNP</td>\n",
       "      <td>NNP</td>\n",
       "    </tr>\n",
       "    <tr>\n",
       "      <td>47376</td>\n",
       "      <td>.</td>\n",
       "      <td>.</td>\n",
       "      <td>NNP</td>\n",
       "    </tr>\n",
       "  </tbody>\n",
       "</table>\n",
       "<p>47377 rows × 3 columns</p>\n",
       "</div>"
      ],
      "text/plain": [
       "                word  pos ppos\n",
       "0           rockwell  NNP    O\n",
       "1      international  NNP  NNP\n",
       "2              corp.  NNP  NNP\n",
       "3                 's  POS  NNP\n",
       "4              tulsa  NNP  POS\n",
       "...              ...  ...  ...\n",
       "47372      according  VBG    ,\n",
       "47373             to   TO  VBG\n",
       "47374            mr.  NNP   TO\n",
       "47375         harlow  NNP  NNP\n",
       "47376              .    .  NNP\n",
       "\n",
       "[47377 rows x 3 columns]"
      ]
     },
     "execution_count": 82,
     "metadata": {},
     "output_type": "execute_result"
    }
   ],
   "source": [
    "test"
   ]
  },
  {
   "cell_type": "code",
   "execution_count": 73,
   "metadata": {},
   "outputs": [
    {
     "data": {
      "text/html": [
       "<div>\n",
       "<style scoped>\n",
       "    .dataframe tbody tr th:only-of-type {\n",
       "        vertical-align: middle;\n",
       "    }\n",
       "\n",
       "    .dataframe tbody tr th {\n",
       "        vertical-align: top;\n",
       "    }\n",
       "\n",
       "    .dataframe thead th {\n",
       "        text-align: right;\n",
       "    }\n",
       "</style>\n",
       "<table border=\"1\" class=\"dataframe\">\n",
       "  <thead>\n",
       "    <tr style=\"text-align: right;\">\n",
       "      <th></th>\n",
       "      <th>word</th>\n",
       "      <th>pos</th>\n",
       "      <th>ppos</th>\n",
       "    </tr>\n",
       "  </thead>\n",
       "  <tbody>\n",
       "    <tr>\n",
       "      <td>0</td>\n",
       "      <td>rockwell</td>\n",
       "      <td>NNP</td>\n",
       "      <td>O</td>\n",
       "    </tr>\n",
       "    <tr>\n",
       "      <td>1</td>\n",
       "      <td>international</td>\n",
       "      <td>NNP</td>\n",
       "      <td>NNP</td>\n",
       "    </tr>\n",
       "    <tr>\n",
       "      <td>2</td>\n",
       "      <td>corp.</td>\n",
       "      <td>NNP</td>\n",
       "      <td>NNP</td>\n",
       "    </tr>\n",
       "    <tr>\n",
       "      <td>3</td>\n",
       "      <td>'s</td>\n",
       "      <td>POS</td>\n",
       "      <td>NNP</td>\n",
       "    </tr>\n",
       "    <tr>\n",
       "      <td>4</td>\n",
       "      <td>tulsa</td>\n",
       "      <td>NNP</td>\n",
       "      <td>POS</td>\n",
       "    </tr>\n",
       "    <tr>\n",
       "      <td>5</td>\n",
       "      <td>unit</td>\n",
       "      <td>NN</td>\n",
       "      <td>NNP</td>\n",
       "    </tr>\n",
       "    <tr>\n",
       "      <td>6</td>\n",
       "      <td>said</td>\n",
       "      <td>VBD</td>\n",
       "      <td>NN</td>\n",
       "    </tr>\n",
       "    <tr>\n",
       "      <td>7</td>\n",
       "      <td>it</td>\n",
       "      <td>PRP</td>\n",
       "      <td>VBD</td>\n",
       "    </tr>\n",
       "    <tr>\n",
       "      <td>8</td>\n",
       "      <td>signed</td>\n",
       "      <td>VBD</td>\n",
       "      <td>PRP</td>\n",
       "    </tr>\n",
       "    <tr>\n",
       "      <td>9</td>\n",
       "      <td>a</td>\n",
       "      <td>DT</td>\n",
       "      <td>VBD</td>\n",
       "    </tr>\n",
       "    <tr>\n",
       "      <td>10</td>\n",
       "      <td>tentative</td>\n",
       "      <td>JJ</td>\n",
       "      <td>DT</td>\n",
       "    </tr>\n",
       "    <tr>\n",
       "      <td>11</td>\n",
       "      <td>agreement</td>\n",
       "      <td>NN</td>\n",
       "      <td>JJ</td>\n",
       "    </tr>\n",
       "    <tr>\n",
       "      <td>12</td>\n",
       "      <td>extending</td>\n",
       "      <td>VBG</td>\n",
       "      <td>NN</td>\n",
       "    </tr>\n",
       "    <tr>\n",
       "      <td>13</td>\n",
       "      <td>its</td>\n",
       "      <td>PRP$</td>\n",
       "      <td>VBG</td>\n",
       "    </tr>\n",
       "    <tr>\n",
       "      <td>14</td>\n",
       "      <td>contract</td>\n",
       "      <td>NN</td>\n",
       "      <td>PRP$</td>\n",
       "    </tr>\n",
       "    <tr>\n",
       "      <td>15</td>\n",
       "      <td>with</td>\n",
       "      <td>IN</td>\n",
       "      <td>NN</td>\n",
       "    </tr>\n",
       "    <tr>\n",
       "      <td>16</td>\n",
       "      <td>boeing</td>\n",
       "      <td>NNP</td>\n",
       "      <td>IN</td>\n",
       "    </tr>\n",
       "    <tr>\n",
       "      <td>17</td>\n",
       "      <td>co.</td>\n",
       "      <td>NNP</td>\n",
       "      <td>NNP</td>\n",
       "    </tr>\n",
       "    <tr>\n",
       "      <td>18</td>\n",
       "      <td>to</td>\n",
       "      <td>TO</td>\n",
       "      <td>NNP</td>\n",
       "    </tr>\n",
       "    <tr>\n",
       "      <td>19</td>\n",
       "      <td>provide</td>\n",
       "      <td>VB</td>\n",
       "      <td>TO</td>\n",
       "    </tr>\n",
       "    <tr>\n",
       "      <td>20</td>\n",
       "      <td>structural</td>\n",
       "      <td>JJ</td>\n",
       "      <td>VB</td>\n",
       "    </tr>\n",
       "    <tr>\n",
       "      <td>21</td>\n",
       "      <td>parts</td>\n",
       "      <td>NNS</td>\n",
       "      <td>JJ</td>\n",
       "    </tr>\n",
       "    <tr>\n",
       "      <td>22</td>\n",
       "      <td>for</td>\n",
       "      <td>IN</td>\n",
       "      <td>NNS</td>\n",
       "    </tr>\n",
       "    <tr>\n",
       "      <td>23</td>\n",
       "      <td>boeing</td>\n",
       "      <td>NNP</td>\n",
       "      <td>IN</td>\n",
       "    </tr>\n",
       "    <tr>\n",
       "      <td>24</td>\n",
       "      <td>'s</td>\n",
       "      <td>POS</td>\n",
       "      <td>NNP</td>\n",
       "    </tr>\n",
       "    <tr>\n",
       "      <td>25</td>\n",
       "      <td>747</td>\n",
       "      <td>CD</td>\n",
       "      <td>POS</td>\n",
       "    </tr>\n",
       "    <tr>\n",
       "      <td>26</td>\n",
       "      <td>jetliners</td>\n",
       "      <td>NNS</td>\n",
       "      <td>CD</td>\n",
       "    </tr>\n",
       "    <tr>\n",
       "      <td>27</td>\n",
       "      <td>.</td>\n",
       "      <td>.</td>\n",
       "      <td>NNS</td>\n",
       "    </tr>\n",
       "    <tr>\n",
       "      <td>28</td>\n",
       "      <td>rockwell</td>\n",
       "      <td>NNP</td>\n",
       "      <td>.</td>\n",
       "    </tr>\n",
       "    <tr>\n",
       "      <td>29</td>\n",
       "      <td>said</td>\n",
       "      <td>VBD</td>\n",
       "      <td>NNP</td>\n",
       "    </tr>\n",
       "  </tbody>\n",
       "</table>\n",
       "</div>"
      ],
      "text/plain": [
       "             word   pos  ppos\n",
       "0        rockwell   NNP     O\n",
       "1   international   NNP   NNP\n",
       "2           corp.   NNP   NNP\n",
       "3              's   POS   NNP\n",
       "4           tulsa   NNP   POS\n",
       "5            unit    NN   NNP\n",
       "6            said   VBD    NN\n",
       "7              it   PRP   VBD\n",
       "8          signed   VBD   PRP\n",
       "9               a    DT   VBD\n",
       "10      tentative    JJ    DT\n",
       "11      agreement    NN    JJ\n",
       "12      extending   VBG    NN\n",
       "13            its  PRP$   VBG\n",
       "14       contract    NN  PRP$\n",
       "15           with    IN    NN\n",
       "16         boeing   NNP    IN\n",
       "17            co.   NNP   NNP\n",
       "18             to    TO   NNP\n",
       "19        provide    VB    TO\n",
       "20     structural    JJ    VB\n",
       "21          parts   NNS    JJ\n",
       "22            for    IN   NNS\n",
       "23         boeing   NNP    IN\n",
       "24             's   POS   NNP\n",
       "25            747    CD   POS\n",
       "26      jetliners   NNS    CD\n",
       "27              .     .   NNS\n",
       "28       rockwell   NNP     .\n",
       "29           said   VBD   NNP"
      ]
     },
     "execution_count": 73,
     "metadata": {},
     "output_type": "execute_result"
    }
   ],
   "source": [
    "test['ppos'] = test.pos.shift(1)\n",
    "test['ppos'] = test.ppos.fillna('O')\n",
    "test = test.drop('other',axis=1)\n",
    "\n",
    "test[:30]"
   ]
  },
  {
   "cell_type": "code",
   "execution_count": null,
   "metadata": {},
   "outputs": [],
   "source": []
  },
  {
   "cell_type": "markdown",
   "metadata": {},
   "source": [
    "  ### Sorting the Sentence Sequence"
   ]
  },
  {
   "cell_type": "code",
   "execution_count": 74,
   "metadata": {},
   "outputs": [
    {
     "data": {
      "text/plain": [
       "['rockwell',\n",
       " 'international',\n",
       " 'corp.',\n",
       " \"'s\",\n",
       " 'tulsa',\n",
       " 'unit',\n",
       " 'said',\n",
       " 'it',\n",
       " 'signed',\n",
       " 'a',\n",
       " 'tentative',\n",
       " 'agreement',\n",
       " 'extending',\n",
       " 'its',\n",
       " 'contract',\n",
       " 'with',\n",
       " 'boeing',\n",
       " 'co.',\n",
       " 'to',\n",
       " 'provide',\n",
       " 'structural',\n",
       " 'parts',\n",
       " 'for',\n",
       " 'boeing',\n",
       " \"'s\",\n",
       " '747',\n",
       " 'jetliners',\n",
       " '.']"
      ]
     },
     "execution_count": 74,
     "metadata": {},
     "output_type": "execute_result"
    }
   ],
   "source": [
    "from more_itertools import split_after\n",
    "\n",
    "#test.values\n",
    "test_sen_lists = []\n",
    "test_word = test['word'].values.tolist()\n",
    "test_sen_list = list(split_after(test_word, lambda x: x == '.'))\n",
    "test_sen_list[0]"
   ]
  },
  {
   "cell_type": "markdown",
   "metadata": {},
   "source": [
    "### Sorting Tag Sequence"
   ]
  },
  {
   "cell_type": "code",
   "execution_count": 75,
   "metadata": {},
   "outputs": [
    {
     "data": {
      "text/plain": [
       "['NNP',\n",
       " 'NNP',\n",
       " 'NNP',\n",
       " 'POS',\n",
       " 'NNP',\n",
       " 'NN',\n",
       " 'VBD',\n",
       " 'PRP',\n",
       " 'VBD',\n",
       " 'DT',\n",
       " 'JJ',\n",
       " 'NN',\n",
       " 'VBG',\n",
       " 'PRP$',\n",
       " 'NN',\n",
       " 'IN',\n",
       " 'NNP',\n",
       " 'NNP',\n",
       " 'TO',\n",
       " 'VB',\n",
       " 'JJ',\n",
       " 'NNS',\n",
       " 'IN',\n",
       " 'NNP',\n",
       " 'POS',\n",
       " 'CD',\n",
       " 'NNS',\n",
       " '.']"
      ]
     },
     "execution_count": 75,
     "metadata": {},
     "output_type": "execute_result"
    }
   ],
   "source": [
    "test_tag_sen_lists = []\n",
    "test_tag = test['pos'].values.tolist()\n",
    "test_tag_sen_list = list(split_after(test_tag, lambda x: x == '.'))\n",
    "test_tag_sen_list[0]"
   ]
  },
  {
   "cell_type": "markdown",
   "metadata": {},
   "source": [
    "### Counting Probabilty by Emission"
   ]
  },
  {
   "cell_type": "code",
   "execution_count": 62,
   "metadata": {},
   "outputs": [
    {
     "name": "stdout",
     "output_type": "stream",
     "text": [
      "['RB', 'NNP', 'NNP', 'POS', 'NNP', 'NN', 'VBD', 'PRP', 'VBD', 'DT', 'JJ', 'NN', 'RB', 'PRP$', 'NN', 'IN', 'NNP', 'NNP', 'TO', 'VB', 'JJ', 'NNS', 'IN', 'NNP', 'POS', 'CD', 'RB', '.']\n"
     ]
    }
   ],
   "source": [
    "emissions = []\n",
    "transitions = []\n",
    "hypA = []\n",
    "    \n",
    "def count_emission (sequen):\n",
    "    for word in sequen:\n",
    "        emission = [(t,Pwt(word, t)) for t in pos]\n",
    "        emissions.append(emission)\n",
    "        #transition = [(tprev,Ptt(ti,tprev)) for ti in pos for tprev,prob in emission]\n",
    "        #transitions.append(transition)\n",
    "    for e in emissions:\n",
    "        # argmax of e\n",
    "        e = sorted(e, key = itemgetter(1))[-1][0]\n",
    "        hypA.append(e)\n",
    "    return hypA\n",
    "    \n",
    "\n",
    "#for e,t in zip(emissions, transitions):\n",
    "hyp_return_list = []\n",
    "#for i in test_sen_list[0]:\n",
    "hyp_return = count_emission(test_sen_list[0])\n",
    "print(hyp_return)\n",
    "    #hyp_return_list.append(hyp_return)\n",
    "    "
   ]
  },
  {
   "cell_type": "markdown",
   "metadata": {},
   "source": [
    "## Testing Code (Not Part of Assignment)"
   ]
  },
  {
   "cell_type": "code",
   "execution_count": 23,
   "metadata": {},
   "outputs": [
    {
     "name": "stdout",
     "output_type": "stream",
     "text": [
      "[2, 3] [4, 9]\n",
      "[8, 27]\n"
     ]
    },
    {
     "data": {
      "text/plain": [
       "[('a', 8), ('b', 27)]"
      ]
     },
     "execution_count": 23,
     "metadata": {},
     "output_type": "execute_result"
    }
   ],
   "source": [
    "from operator import mul\n",
    "l0 = ['a','b']\n",
    "l1 = [('a', 2), ('b', 3)]\n",
    "l2 = [('a', 4), ('b', 9)]\n",
    "l11 = [x[1] for x in l1]\n",
    "l21 = [x[1] for x in l2]\n",
    "\n",
    "print(l11, l21)\n",
    "#prod = [a * b for a, b in zip(l11, l21)]\n",
    "#prod = list(map(mul, l11, l21))\n",
    "prod = [l11[i]*l21[i] for i in range(len(l11))]\n",
    "print (prod)\n",
    "[(l0[i], prod[i]) for i in range(0,len(l0))]\n",
    "#list(zip(l0, prod))"
   ]
  },
  {
   "cell_type": "code",
   "execution_count": 24,
   "metadata": {},
   "outputs": [
    {
     "name": "stdout",
     "output_type": "stream",
     "text": [
      "[('x', 12)]\n"
     ]
    },
    {
     "data": {
      "text/plain": [
       "13"
      ]
     },
     "execution_count": 24,
     "metadata": {},
     "output_type": "execute_result"
    }
   ],
   "source": [
    "m=[]\n",
    "m0 = ('x',12)\n",
    "m1 = ('y', 13)\n",
    "m.append(m0)\n",
    "print(m)\n",
    "m.append(m1)\n",
    "m\n",
    "m[1][1]"
   ]
  },
  {
   "cell_type": "code",
   "execution_count": 25,
   "metadata": {},
   "outputs": [
    {
     "data": {
      "text/plain": [
       "[('a', 12), ('b', 16)]"
      ]
     },
     "execution_count": 25,
     "metadata": {},
     "output_type": "execute_result"
    }
   ],
   "source": [
    "n=[]\n",
    "n0 = [('a', 6), ('b', 8)]\n",
    "n1 = [('a', 7), ('b', 6)]\n",
    "t = [(x,y*2) for (x,y) in n0]\n",
    "t"
   ]
  },
  {
   "cell_type": "markdown",
   "metadata": {},
   "source": [
    "## Counting Probability with Emission and Transition"
   ]
  },
  {
   "cell_type": "code",
   "execution_count": 63,
   "metadata": {},
   "outputs": [],
   "source": [
    "#del list\n",
    "\n",
    "def count_Prob(sequen):\n",
    "    return_hyp = []\n",
    "    #print(len(pos))\n",
    "    for word in sequen[0:1]:\n",
    "        emission1 = [(t,Pwt(word, t)) for t in pos]\n",
    "        max_prob1 = sorted(emission1, key = itemgetter(1))[-1]\n",
    "        return_hyp.append(max_prob1)\n",
    "        #print(return_hyp)\n",
    "    \n",
    "    # arg_max from w1\n",
    "    for word in sequen[1:]:\n",
    "        emission = [(t,Pwt(word, t)) for t in pos]\n",
    "        ePrevMax = return_hyp[sequen.index(word)-1][0]\n",
    "        transition = [(x,Ptt(x,ePrevMax)) for (x,y) in emission]\n",
    "        \n",
    "        \n",
    "        #multiply\n",
    "        tran_prob = [x[1] for x in transition]\n",
    "        emis_prob = [x[1] for x in emission]\n",
    "        keys = [x[0] for x in emission]\n",
    "        keyes = [x[0] for x in transition]\n",
    "        emi_tran = [tran_prob[i]*emis_prob[i] for i in range(len(tran_prob))]\n",
    "        proba = [(keys[i],emi_tran[i]) for i in range(0,len(keys))]\n",
    "        \n",
    "        #current word highest probable tag\n",
    "        ecurrMax = sorted(proba, key = itemgetter(1))[-1]\n",
    "        #print(ecurrMax)\n",
    "        \n",
    "        #add to the return list\n",
    "        return_hyp.append(ecurrMax)\n",
    "    \n",
    "    return return_hyp\n",
    "        \n",
    "        "
   ]
  },
  {
   "cell_type": "code",
   "execution_count": 27,
   "metadata": {
    "scrolled": true
   },
   "outputs": [],
   "source": [
    "#hyp = count_Prob(test_sen_list[0])\n",
    "#print(hyp)\n",
    "#probi =[x[0] for x in hyp]\n",
    "#print(probi)"
   ]
  },
  {
   "cell_type": "markdown",
   "metadata": {},
   "source": [
    "## Get Tags using the Train set and Compare the Tags"
   ]
  },
  {
   "cell_type": "code",
   "execution_count": 76,
   "metadata": {},
   "outputs": [
    {
     "name": "stdout",
     "output_type": "stream",
     "text": [
      "0.9039407307343226\n"
     ]
    }
   ],
   "source": [
    "p_list =[]   # tag list of lists\n",
    "for i in test_sen_list:\n",
    "    hyp = count_Prob(i)\n",
    "    p =[x[0] for x in hyp]\n",
    "    p_list.append(p)\n",
    "\n",
    "#counted tags\n",
    "l_cal = [item for sublist in p_list for item in sublist]  \n",
    "\n",
    "# expected tags\n",
    "l_expect = test['pos'].values.tolist()   \n",
    "\n",
    "def match_elements(list_a, list_b):\n",
    "    match = []\n",
    "    for x, y in zip(list_a, list_b):\n",
    "        if x == y:\n",
    "            match.append(1)\n",
    "    return match\n",
    "\n",
    "matches = match_elements(l_cal, l_expect)\n",
    "#print(len(l_cal), len(l_expect))\n",
    "print(len(matches)/len(l_cal))"
   ]
  },
  {
   "cell_type": "markdown",
   "metadata": {},
   "source": [
    "## Confusion Matrix"
   ]
  },
  {
   "cell_type": "code",
   "execution_count": 61,
   "metadata": {},
   "outputs": [
    {
     "name": "stdout",
     "output_type": "stream",
     "text": [
      "    |                           N      N                                  V                                  V |\n",
      "    |      N      I      D      N      N      J                    C      B      R      V      C      T      B |\n",
      "    |      N      N      T      P      S      J      ,      .      D      D      B      B      C      O      N |\n",
      "----+----------------------------------------------------------------------------------------------------------+\n",
      " NN | <12.6%>  0.0%   0.0%   1.1%   0.3%   0.5%      .      .   0.0%   0.0%   0.0%   0.1%      .      .   0.0% |\n",
      " IN |   0.2% <10.6%>  0.0%   0.2%   0.1%   0.1%      .      .   0.0%   0.0%   0.2%   0.0%      .      .   0.1% |\n",
      " DT |   0.2%   0.0%  <8.4%>  0.5%   0.1%   0.3%      .      .   0.2%   0.0%   0.1%   0.0%      .      .   0.2% |\n",
      "NNP |   0.6%      .      .  <7.3%>  0.2%   0.2%      .      .   0.0%   0.0%   0.0%   0.0%   0.0%      .   0.0% |\n",
      "NNS |      .      .      .   0.1%  <5.6%>     .      .      .      .      .      .      .      .      .      . |\n",
      " JJ |   0.2%      .      .   0.5%   0.0%  <5.1%>     .      .   0.0%   0.0%   0.1%   0.0%      .      .   0.0% |\n",
      "  , |      .      .      .   0.0%   0.0%      .  <5.0%>     .      .      .      .      .      .      .      . |\n",
      "  . |      .      .      .      .      .      .      .  <4.2%>     .      .      .      .      .      .      . |\n",
      " CD |      .      .      .      .      .   0.0%      .      .  <3.7%>     .      .      .      .      .      . |\n",
      "VBD |   0.0%      .      .   0.0%   0.0%   0.0%      .      .      .  <3.2%>  0.0%   0.0%      .      .   0.2% |\n",
      " RB |   0.0%   0.0%   0.0%   0.2%   0.0%   0.1%      .      .   0.0%      .  <2.5%>     .      .      .   0.0% |\n",
      " VB |   0.1%      .      .   0.0%   0.0%   0.0%      .      .   0.1%   0.0%   0.0%  <2.5%>     .      .   0.0% |\n",
      " CC |      .      .   0.0%      .      .      .      .      .      .      .      .      .  <2.6%>     .      . |\n",
      " TO |      .      .      .      .      .      .      .      .      .      .      .      .      .  <2.5%>     . |\n",
      "VBN |   0.0%      .      .   0.0%      .   0.0%      .      .      .   0.2%      .   0.0%      .      .  <1.8%>|\n",
      "----+----------------------------------------------------------------------------------------------------------+\n",
      "(row = reference; col = test)\n",
      "\n"
     ]
    }
   ],
   "source": [
    "import nltk\n",
    "gold = l_cal\n",
    "test = l_expect\n",
    "cm = nltk.ConfusionMatrix(gold, test)\n",
    "print(cm.pretty_format(sort_by_count=True, show_percents=True, truncate=15))"
   ]
  },
  {
   "cell_type": "markdown",
   "metadata": {},
   "source": [
    "### Common Errors\n",
    "\n",
    "- Tagging NN for NNP 0.6% of the words\n",
    "- Tagging NN for DT 0.2% of the words\n",
    "- Tagging NNP for DT for 0.5% of the words\n",
    "- Tagging NNP for jj 0.5% of the words"
   ]
  },
  {
   "cell_type": "code",
   "execution_count": null,
   "metadata": {},
   "outputs": [],
   "source": []
  },
  {
   "cell_type": "code",
   "execution_count": null,
   "metadata": {},
   "outputs": [],
   "source": []
  },
  {
   "cell_type": "markdown",
   "metadata": {},
   "source": [
    "## Practice Testing (Not part of Assignment)"
   ]
  },
  {
   "cell_type": "code",
   "execution_count": 29,
   "metadata": {},
   "outputs": [],
   "source": [
    "#print(p_list) #list of list\n",
    "import numpy as np\n",
    "\n",
    "\n",
    "\n",
    "l_cal = [item for sublist in p_list for item in sublist]\n",
    "l_expect = test['posT'].values.tolist()\n",
    "d = {'Cal':l_cal,'Expect':l_expect}\n",
    "dp = pd.DataFrame(d)\n",
    "\n"
   ]
  },
  {
   "cell_type": "code",
   "execution_count": 78,
   "metadata": {},
   "outputs": [],
   "source": [
    "count = sum( [ len(e) for e in test_sen_list])\n",
    "#print(count)"
   ]
  },
  {
   "cell_type": "code",
   "execution_count": 79,
   "metadata": {},
   "outputs": [],
   "source": [
    "hyp_return_list = []\n",
    "for i in test_sen_list:\n",
    "    hyp_return = count_emission(i)\n",
    "    #print(hyp_return)\n",
    "    hyp_return_list.append(hyp_return)\n",
    "\n",
    "count = sum( [ len(e) for e in hyp_return_list])\n",
    "#print(count)"
   ]
  },
  {
   "cell_type": "code",
   "execution_count": 77,
   "metadata": {},
   "outputs": [],
   "source": [
    "#flat_list = [item for sublist in hyp_return_list for item in sublist]\n",
    "\n",
    "#print(len(flat_list))\n",
    "#print(len(test_tag))\n",
    "#print (len(test_sen_list))"
   ]
  },
  {
   "cell_type": "code",
   "execution_count": 85,
   "metadata": {},
   "outputs": [
    {
     "data": {
      "application/javascript": [
       "IPython.notebook.save_checkpoint();"
      ],
      "text/plain": [
       "<IPython.core.display.Javascript object>"
      ]
     },
     "metadata": {},
     "output_type": "display_data"
    },
    {
     "data": {
      "application/javascript": [
       "IPython.notebook.save_notebook();"
      ],
      "text/plain": [
       "<IPython.core.display.Javascript object>"
      ]
     },
     "metadata": {},
     "output_type": "display_data"
    },
    {
     "name": "stdout",
     "output_type": "stream",
     "text": [
      "Saving notebook... Saved 'A3-hmm.ipynb'.\n",
      "Submit... 100% complete\n",
      "Submission successful for user: SajiaZafreen@u.boisestate.edu\n",
      "URL: https://okpy.org/bsu/nlp/sp21/a3/submissions/l7Nw4l\n",
      "\n"
     ]
    }
   ],
   "source": [
    "ok.submit()"
   ]
  },
  {
   "cell_type": "code",
   "execution_count": null,
   "metadata": {},
   "outputs": [],
   "source": []
  }
 ],
 "metadata": {
  "kernelspec": {
   "display_name": "Python 3",
   "language": "python",
   "name": "python3"
  },
  "language_info": {
   "codemirror_mode": {
    "name": "ipython",
    "version": 3
   },
   "file_extension": ".py",
   "mimetype": "text/x-python",
   "name": "python",
   "nbconvert_exporter": "python",
   "pygments_lexer": "ipython3",
   "version": "3.7.4"
  }
 },
 "nbformat": 4,
 "nbformat_minor": 2
}
